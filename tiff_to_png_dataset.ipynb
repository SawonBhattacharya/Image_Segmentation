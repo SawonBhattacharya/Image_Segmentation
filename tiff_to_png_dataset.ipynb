{
 "cells": [
  {
   "cell_type": "code",
   "execution_count": 9,
   "metadata": {},
   "outputs": [],
   "source": [
    "import tifffile as tiff\n",
    "import matplotlib.pyplot as plt\n",
    "import numpy as np\n",
    "import os\n",
    "from skimage.io import imread,imshow\n",
    "#Import necessary packages \n",
    "import cv2\n",
    "import pandas as pd\n",
    "import os \n",
    "import shutil\n",
    "import random"
   ]
  },
  {
   "cell_type": "code",
   "execution_count": 15,
   "metadata": {},
   "outputs": [],
   "source": [
    "IMAGE_PATH = \"dataset/tiff\"\n",
    "def M(image_id):\n",
    "    # __author__ = amaia\n",
    "    # https://www.kaggle.com/aamaia/dstl-satellite-imagery-feature-detection/rgb-using-m-bands-example\n",
    "    filename = os.path.join(IMAGE_PATH+'/'+'{}.tif'.format(image_id))\n",
    "    img = tiff.imread(filename)\n",
    "    m = np.rollaxis(img, 0, 3)\n",
    "    img = np.zeros((m.shape[0], m.shape[1], 3))\n",
    "    img[:,:,0] = m[:,:,4]\n",
    "    img[:,:,1] = m[:,:,2]\n",
    "    img[:,:,2] = m[:,:,1]\n",
    "    return img"
   ]
  },
  {
   "cell_type": "code",
   "execution_count": 16,
   "metadata": {},
   "outputs": [],
   "source": [
    "def stretch_n(bands, lower_percent=3, higher_percent=97):\n",
    "    out = np.zeros_like(bands).astype(np.float32)\n",
    "    n = bands.shape[2]\n",
    "    for i in range(n):\n",
    "        a = 0  # np.min(band)\n",
    "        b = 1  # np.max(band)\n",
    "        c = np.percentile(bands[:, :, i], lower_percent)\n",
    "        d = np.percentile(bands[:, :, i], higher_percent)\n",
    "        t = a + (bands[:, :, i] - c) * (b - a) / (d - c)\n",
    "        t[t < a] = a\n",
    "        t[t > b] = b\n",
    "        out[:, :, i] = t\n",
    "\n",
    "    return out.astype(np.float32)"
   ]
  },
  {
   "cell_type": "code",
   "execution_count": 17,
   "metadata": {},
   "outputs": [],
   "source": [
    "def tiff_to_png(img):\n",
    "    img = img / img.max() #normalizes data in range 0 - 255\n",
    "    img = 255 * img\n",
    "    img1 = img.astype(np.uint8)\n",
    "    return img1"
   ]
  },
  {
   "cell_type": "code",
   "execution_count": 18,
   "metadata": {},
   "outputs": [],
   "source": [
    "\n",
    "TARGET_DIR = \"dataset/png\"\n",
    "#Create a new directory that will store the .png images \n",
    "\n",
    "TARGET_DIR = \"dataset/png\"\n",
    "\n",
    "if not os.path.exists(TARGET_DIR):\n",
    "    os.mkdir(TARGET_DIR)\n",
    "    print(\"png Folder Created\")"
   ]
  },
  {
   "cell_type": "code",
   "execution_count": 20,
   "metadata": {},
   "outputs": [],
   "source": [
    "# Now pick images from the dataset and place it in the png folder\n",
    "count = 0 # counts the no:of tiff images \n",
    "\n",
    "png_images=os.listdir(IMAGE_PATH+\"/\")\n",
    "for i,image_name in enumerate(png_images):\n",
    "        filename = image_name\n",
    "        id=filename.split('.')[0]\n",
    "        img=M(id)\n",
    "        x=stretch_n(img)\n",
    "        x=tiff_to_png(x)\n",
    "        #print(x.shape)\n",
    "        cv2.imwrite(TARGET_DIR+\"/\"+\"{}.png\".format(id), x)\n",
    "        #image_copy_path = os.path.join(TARGET_DIR, \"{}.png\".format(id))\n",
    "        #shutil.copy2(\"{}.png\".format(id), image_copy_path)\n",
    "        #print(img.dtype)\n",
    "        #image_path = os.path.join(IMAGE_PATH , filename)\n",
    "        #image_copy_path = os.path.join(TARGET_DIR, filename)\n",
    "        #shutil.copy2(image_path, image_copy_path)\n",
    "        #print(\"Moving Image \", count)\n",
    "        #count += 1"
   ]
  },
  {
   "cell_type": "code",
   "execution_count": null,
   "metadata": {},
   "outputs": [],
   "source": []
  },
  {
   "cell_type": "code",
   "execution_count": null,
   "metadata": {},
   "outputs": [],
   "source": []
  }
 ],
 "metadata": {
  "kernelspec": {
   "display_name": "Python 3",
   "language": "python",
   "name": "python3"
  },
  "language_info": {
   "codemirror_mode": {
    "name": "ipython",
    "version": 3
   },
   "file_extension": ".py",
   "mimetype": "text/x-python",
   "name": "python",
   "nbconvert_exporter": "python",
   "pygments_lexer": "ipython3",
   "version": "3.7.6"
  }
 },
 "nbformat": 4,
 "nbformat_minor": 4
}
